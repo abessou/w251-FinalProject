{
 "cells": [
  {
   "cell_type": "code",
   "execution_count": 41,
   "metadata": {
    "collapsed": true
   },
   "outputs": [],
   "source": [
    "%matplotlib inline\n",
    "import pymongo\n",
    "import matplotlib\n",
    "import matplotlib.pyplot as plt\n",
    "import numpy as np\n",
    "import math"
   ]
  },
  {
   "cell_type": "code",
   "execution_count": 10,
   "metadata": {
    "collapsed": true
   },
   "outputs": [],
   "source": [
    "class MongoDBServices:\n",
    "    '''A utility class to perform video reporting queries into the MongoDB store'''\n",
    "    \n",
    "    def __init__(self, config):\n",
    "        '''Initializes an instance of the class'''\n",
    "        \n",
    "        # Initialize DB collections to fetch from\n",
    "        self.youtube_collection = config['youtube_collection']\n",
    "        self.twitter_collection = config['twitter_collection']\n",
    "        self.facebook_collection = config['facebook_collection']\n",
    "        \n",
    "        # Initialize DB \n",
    "        if 'database' in config:\n",
    "            database = config['database']\n",
    "        else:\n",
    "            database = 'VideosDB'\n",
    "        if 'host' in config:\n",
    "            host = config['host']\n",
    "        else:\n",
    "            host = 'localhost'\n",
    "        if 'port' in config:\n",
    "            port = int(config['port'])\n",
    "        else:\n",
    "            port = 27017\n",
    "        \n",
    "        client = pymongo.MongoClient(host, int(port))\n",
    "        self.db = client[database]\n",
    "        \n",
    "    def get_top_youtube_videos(self, n):\n",
    "        'Returns the top n Youtube videos from the document store based on an internal popularity rating'\n",
    "        \n",
    "        return self.db[self.youtube_collection].find({},\n",
    "            projection=['items.statistics.viewCount', 'items.snippet.channelTitle', 'items.snippet.title', 'items.id' ],\n",
    "            sort=[('items.statistics.viewCount',-1)],\n",
    "            limit=n)\n",
    "\n",
    "    def get_top_twitter_videos(self, n):\n",
    "        '''Returns the top n Twitter videos from the document store based on an internal popularity rating'''\n",
    "\n",
    "        return self.db[self.twitter_collection].find({},\n",
    "            projection=['tweet.orig_favorite_count', 'tweet.orig_user_name', 'tweet.orig_text', 'tweet.orig_id_str'],\n",
    "            sort=[('tweet.orig_favorite_count',-1)],\n",
    "            limit=n)\n",
    "    \n",
    "    def get_top_facebook_videos(self, n):\n",
    "        '''Returns the top n Facebook videos from the document store based on an internal popularity rating'''\n",
    "        \n",
    "        return self.db[self.facebook_collection].find({},\n",
    "            projection=['total_likes', 'page.page_name', 'description', 'id' ],\n",
    "            sort=[('total_likes',-1)],\n",
    "            limit=n)"
   ]
  },
  {
   "cell_type": "code",
   "execution_count": 11,
   "metadata": {
    "collapsed": false
   },
   "outputs": [],
   "source": [
    "# Initialize a DB connection\n",
    "test_defaults = {\n",
    "    'youtube_collection':'Youtube',\n",
    "    'twitter_collection':'twitter',\n",
    "    'facebook_collection':'facebook',\n",
    "    'host':'67.228.179.2',\n",
    "    'port':'27017',\n",
    "    'database': 'VideosDB',\n",
    "}\n",
    "\n",
    "db_services = MongoDBServices(test_defaults)"
   ]
  },
  {
   "cell_type": "code",
   "execution_count": 22,
   "metadata": {
    "collapsed": false
   },
   "outputs": [
    {
     "name": "stdout",
     "output_type": "stream",
     "text": [
      "Cursor count: 504100\n"
     ]
    }
   ],
   "source": [
    "#\n",
    "# Twitter popularity counts\n",
    "#\n",
    "cursor = db_services.get_top_twitter_videos(0)\n",
    "print ('Cursor count: %d')%(cursor.count())\n",
    "twitter_video_counts = [video['tweet']['orig_favorite_count'] for video in cursor]"
   ]
  },
  {
   "cell_type": "code",
   "execution_count": 24,
   "metadata": {
    "collapsed": false
   },
   "outputs": [
    {
     "name": "stdout",
     "output_type": "stream",
     "text": [
      "Length of Twitter Video Count: 504111\n",
      "('Quartiles: ', array([   0.,    0.,   17.,  158.]))\n"
     ]
    },
    {
     "data": {
      "image/png": "[encoded data removed]",
      "text/plain": [
       "<matplotlib.figure.Figure at 0x10e584cd0>"
      ]
     },
     "metadata": {},
     "output_type": "display_data"
    }
   ],
   "source": [
    "# the histogram of the data\n",
    "print ('Length of Twitter Video Count: %d'%(len(twitter_video_counts)))\n",
    "print('Quartiles: ', np.percentile(twitter_video_counts, np.arange(0, 100, 25))) # quartiles\n",
    "\n",
    "n, bins, patches = plt.hist(twitter_video_counts, bins=30, range=(0,158), facecolor='green', alpha=0.75)\n",
    "\n",
    "plt.xlabel('Original Favorite Count')\n",
    "plt.ylabel('Frequency')\n",
    "plt.title('Histogram of Twitter Original Favorite Count')\n",
    "#plt.axis([40, 160, 0, 0.03])\n",
    "plt.grid(True)\n",
    "\n",
    "plt.show()"
   ]
  },
  {
   "cell_type": "code",
   "execution_count": 25,
   "metadata": {
    "collapsed": false
   },
   "outputs": [
    {
     "name": "stdout",
     "output_type": "stream",
     "text": [
      "Cursor count: 860000\n"
     ]
    }
   ],
   "source": [
    "#\n",
    "# Facebook popularity counts\n",
    "#\n",
    "cursor = db_services.get_top_facebook_videos(0)\n",
    "print ('Cursor count: %d')%(cursor.count())\n",
    "facebook_video_counts = [video['total_likes'] for video in cursor]"
   ]
  },
  {
   "cell_type": "code",
   "execution_count": 30,
   "metadata": {
    "collapsed": false
   },
   "outputs": [
    {
     "name": "stdout",
     "output_type": "stream",
     "text": [
      "Length of Facebook Video Count: 860214\n",
      "('Quartiles: ', array([   0.,   21.,  101.,  496.]))\n"
     ]
    },
    {
     "data": {
      "image/png": "[encoded data removed]",
      "text/plain": [
       "<matplotlib.figure.Figure at 0x1104b2110>"
      ]
     },
     "metadata": {},
     "output_type": "display_data"
    }
   ],
   "source": [
    "# the histogram of the data\n",
    "print ('Length of Facebook Video Count: %d'%(len(facebook_video_counts)))\n",
    "print('Quartiles: ', np.percentile(facebook_video_counts, np.arange(0, 100, 25))) # quartiles\n",
    "\n",
    "n, bins, patches = plt.hist(facebook_video_counts, bins=30, range=(0,1000), facecolor='green', alpha=0.75)\n",
    "\n",
    "plt.xlabel('Total Likes')\n",
    "plt.ylabel('Frequency')\n",
    "plt.title('Histogram of Facebook Total Likes')\n",
    "#plt.axis([40, 160, 0, 0.03])\n",
    "plt.grid(True)\n",
    "\n",
    "plt.show()"
   ]
  },
  {
   "cell_type": "code",
   "execution_count": 42,
   "metadata": {
    "collapsed": false
   },
   "outputs": [
    {
     "name": "stdout",
     "output_type": "stream",
     "text": [
      "Cursor count: 9751\n"
     ]
    }
   ],
   "source": [
    "#\n",
    "# Youtube popularity counts\n",
    "#\n",
    "cursor = db_services.get_top_youtube_videos(0)\n",
    "print ('Cursor count: %d')%(cursor.count())\n",
    "youtube_video_counts = []\n",
    "for video in cursor:\n",
    "    if 'items' in video and len(video['items'])>0  and not math.isnan(video['items'][0]['statistics']['viewCount']):\n",
    "        youtube_video_counts.append(int(video['items'][0]['statistics']['viewCount']))"
   ]
  },
  {
   "cell_type": "code",
   "execution_count": 44,
   "metadata": {
    "collapsed": false
   },
   "outputs": [
    {
     "name": "stdout",
     "output_type": "stream",
     "text": [
      "Length of Youtube Video Count: 9749\n",
      "('Quartiles: ', array([     0.,    407.,   6801.,  50790.]))\n"
     ]
    },
    {
     "data": {
      "image/png": "[encoded data removed]",
      "text/plain": [
       "<matplotlib.figure.Figure at 0x110be6d90>"
      ]
     },
     "metadata": {},
     "output_type": "display_data"
    }
   ],
   "source": [
    "# the histogram of the data\n",
    "print ('Length of Youtube Video Count: %d'%(len(youtube_video_counts)))\n",
    "print('Quartiles: ', np.percentile(youtube_video_counts, np.arange(0, 100, 25))) # quartiles\n",
    "\n",
    "n, bins, patches = plt.hist(youtube_video_counts, bins=30, range=(0,75000), facecolor='green', alpha=0.75)\n",
    "\n",
    "plt.xlabel('ViewCounts')\n",
    "plt.ylabel('Frequency')\n",
    "plt.title('Histogram of Youtube Total Likes')\n",
    "#plt.axis([40, 160, 0, 0.03])\n",
    "plt.grid(True)\n",
    "\n",
    "plt.show()"
   ]
  },
  {
   "cell_type": "code",
   "execution_count": null,
   "metadata": {
    "collapsed": true
   },
   "outputs": [],
   "source": []
  }
 ],
 "metadata": {
  "kernelspec": {
   "display_name": "Python 2",
   "language": "python",
   "name": "python2"
  },
  "language_info": {
   "codemirror_mode": {
    "name": "ipython",
    "version": 2
   },
   "file_extension": ".py",
   "mimetype": "text/x-python",
   "name": "python",
   "nbconvert_exporter": "python",
   "pygments_lexer": "ipython2",
   "version": "2.7.11"
  }
 },
 "nbformat": 4,
 "nbformat_minor": 0
}
